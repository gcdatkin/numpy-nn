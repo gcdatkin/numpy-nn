{
  "nbformat": 4,
  "nbformat_minor": 0,
  "metadata": {
    "kernelspec": {
      "display_name": "data-science-experiments",
      "language": "python",
      "name": "data-science-experiments"
    },
    "language_info": {
      "codemirror_mode": {
        "name": "ipython",
        "version": 3
      },
      "file_extension": ".py",
      "mimetype": "text/x-python",
      "name": "python",
      "nbconvert_exporter": "python",
      "pygments_lexer": "ipython3",
      "version": "3.8.5"
    },
    "colab": {
      "name": "NumPyNeuralNetwork.ipynb",
      "provenance": [],
      "toc_visible": true
    }
  },
  "cells": [
    {
      "cell_type": "markdown",
      "metadata": {
        "id": "Ata0xdCOX1d0"
      },
      "source": [
        "# Layers"
      ]
    },
    {
      "cell_type": "code",
      "metadata": {
        "id": "c2JOjPw9dD5E"
      },
      "source": [
        "import numpy as np\n",
        "from tqdm import tqdm"
      ],
      "execution_count": 1,
      "outputs": []
    },
    {
      "cell_type": "code",
      "metadata": {
        "id": "grgefhnrlzmT"
      },
      "source": [
        "random_seed = 2764763\n",
        "np.random.seed(random_seed)"
      ],
      "execution_count": 2,
      "outputs": []
    },
    {
      "cell_type": "code",
      "metadata": {
        "id": "QFh6agFKdufV"
      },
      "source": [
        "class InputLayer():\n",
        "    def __init__(self, input_dim):\n",
        "        self.input_dim = input_dim\n",
        "        self.shape = (self.input_dim,)\n",
        "        \n",
        "    def forward(self, input_data):\n",
        "        self.input = input_data\n",
        "        self.output = self.input\n",
        "        return self.output"
      ],
      "execution_count": 3,
      "outputs": []
    },
    {
      "cell_type": "code",
      "metadata": {
        "id": "BFdVTrjah5xf"
      },
      "source": [
        "class DenseLayer():\n",
        "    def __init__(self, input_dim, output_dim, activation, activation_grad):\n",
        "        self.input_dim = input_dim\n",
        "        self.output_dim = output_dim\n",
        "        self.shape = (self.input_dim, self.output_dim)\n",
        "\n",
        "        self.weights = np.random.rand(input_dim, output_dim) - 0.5\n",
        "        self.grad = np.zeros_like(self.weights)\n",
        "\n",
        "        self.activation = activation\n",
        "        self.activation_grad = activation_grad\n",
        "\n",
        "        self.is_output = False\n",
        "\n",
        "    def forward(self, input_data):\n",
        "        self.input = input_data\n",
        "\n",
        "        # Multiply the weights and the input\n",
        "        # Let z be the unactivated output (without the bias)\n",
        "        self.z = np.matmul(np.transpose(self.weights), self.input)\n",
        "        # Apply the activation\n",
        "        self.output = self.activation(self.z)\n",
        "        # Add the bias\n",
        "        if self.is_output == False:\n",
        "            self.output = np.concatenate([np.array([1.0], ndmin=2), self.output], axis=0)\n",
        "        return self.output\n",
        "\n",
        "    def backward(self, input_data, weights_data):\n",
        "        self.delta = input_data\n",
        "\n",
        "        if self.is_output == True:\n",
        "            # Just make delta the error if final layer\n",
        "            self.delta = self.output - self.delta\n",
        "\n",
        "        else:\n",
        "            # Matrix multiplication\n",
        "            self.delta = np.matmul(weights_data, self.delta)\n",
        "            # Remove the bias\n",
        "            self.delta = np.delete(self.delta, 0, axis=0)\n",
        "            # \"Undo\" the activation\n",
        "            self.delta = self.delta * self.activation_grad(self.z)"
      ],
      "execution_count": 4,
      "outputs": []
    },
    {
      "cell_type": "code",
      "metadata": {
        "id": "q7_LEk2KyjrN"
      },
      "source": [
        "class NeuralNetwork():\n",
        "    def __init__(self, loss, learning_rate):\n",
        "        self.layers = []\n",
        "        self.trained = False\n",
        "\n",
        "        self.loss = loss\n",
        "\n",
        "        self.learning_rate = learning_rate\n",
        "\n",
        "    def add(self, layer):\n",
        "        if len(self.layers) > 0:\n",
        "            self.layers[-1].is_output = False\n",
        "        self.layers.append(layer)\n",
        "        self.layers[-1].is_output = True\n",
        "\n",
        "    def predict(self, X):\n",
        "        if self.trained == False:\n",
        "            print(\"Model not trained!\")\n",
        "        else:\n",
        "            self.X_pred = X\n",
        "            self.y_pred = []\n",
        "\n",
        "            num_examples = X.shape[0]\n",
        "\n",
        "            for i in range(num_examples):\n",
        "                x = np.expand_dims(np.transpose(X[i, :]), axis=1)\n",
        "                h = x.copy()\n",
        "\n",
        "                for layer in self.layers:\n",
        "                    h = layer.forward(h)\n",
        "\n",
        "                self.y_pred.append(h)\n",
        "\n",
        "            self.y_pred = np.array(self.y_pred, ndmin=2)\n",
        "\n",
        "            return self.y_pred\n",
        "            \n",
        "\n",
        "    def fit(self, X, y, val_data=None, batch_size=32, epochs=10):\n",
        "        self.X = X\n",
        "        self.y = y\n",
        "        self.val_data = val_data\n",
        "        self.batch_size = batch_size\n",
        "        self.epochs = epochs\n",
        "        self.history = {'loss': [], 'val_loss': []}\n",
        "\n",
        "        num_examples = X.shape[0]\n",
        "\n",
        "        for epoch in range(self.epochs):\n",
        "            total_loss = 0\n",
        "            \n",
        "            for i in range(num_examples):\n",
        "                x = np.expand_dims(np.transpose(X[i, :]), axis=1)\n",
        "\n",
        "                # Feed forward\n",
        "                h = x.copy()\n",
        "                for layer in self.layers:\n",
        "                    h = layer.forward(h)\n",
        "                \n",
        "                training_loss = self.loss(self.y[i], h)\n",
        "                total_loss += training_loss\n",
        "\n",
        "                # Backpropagation\n",
        "                # Accumulate layer gradients\n",
        "                for l in reversed(range(len(self.layers))):\n",
        "                    \n",
        "                    if l > 0:\n",
        "                        if self.layers[l].is_output == True:\n",
        "                            self.layers[l].backward(self.y[i], weights_data=None)\n",
        "\n",
        "                        else:\n",
        "                            self.layers[l].backward(self.layers[l + 1].delta, weights_data=self.layers[l + 1].weights)\n",
        "\n",
        "                        self.layers[l].grad += np.matmul(self.layers[l - 1].output, np.transpose(self.layers[l].delta))\n",
        "\n",
        "            # Get average and update weights\n",
        "            for l in reversed(range(len(self.layers))):\n",
        "                    if l > 0:\n",
        "                        self.layers[l].grad /= num_examples\n",
        "                        self.layers[l].weights -= self.learning_rate * self.layers[l].grad\n",
        "\n",
        "            mean_loss = total_loss / num_examples\n",
        "\n",
        "            if self.val_data == None:\n",
        "                print(\"Epoch\", epoch)\n",
        "                print(\"Training Loss:\", mean_loss)\n",
        "            else:\n",
        "                val_X = self.val_data[0]\n",
        "                val_y = self.val_data[1]\n",
        "                num_val_examples = val_X.shape[0]\n",
        "                total_val_loss = 0\n",
        "                for i in range(num_val_examples):\n",
        "                    val_x = np.expand_dims(np.transpose(val_X[i, :]), axis=1)\n",
        "                    val_h = val_x.copy()\n",
        "                    for layer in self.layers:\n",
        "                        val_h = layer.forward(val_h)\n",
        "                    val_loss = self.loss(val_y[i], h)\n",
        "                    total_val_loss += val_loss\n",
        "                mean_val_loss = total_val_loss / num_val_examples\n",
        "\n",
        "                print(\"Epoch\", epoch)\n",
        "                print(\"Training Loss:\", mean_loss, \"  Validation Loss:\", mean_val_loss)\n",
        "                self.history['loss'].append(mean_loss)\n",
        "                self.history['val_loss'].append(mean_val_loss)\n",
        "\n",
        "        self.trained = True\n",
        "        \n",
        "        self.history['loss'] = np.squeeze(self.history['loss'])\n",
        "        self.history['val_loss'] = np.squeeze(self.history['val_loss'])\n",
        "        \n",
        "        return self.history"
      ],
      "execution_count": 5,
      "outputs": []
    },
    {
      "cell_type": "markdown",
      "metadata": {
        "id": "4wwOFeboX5TT"
      },
      "source": [
        "# Losses"
      ]
    },
    {
      "cell_type": "code",
      "metadata": {
        "id": "hwnzJMbDWUqY"
      },
      "source": [
        "# y is true label value, h is prediction\n",
        "def binary_crossentropy(y, h):\n",
        "    return y * (-np.log(h)) + (1 - y) * (-np.log(1 - h))"
      ],
      "execution_count": 6,
      "outputs": []
    },
    {
      "cell_type": "markdown",
      "metadata": {
        "id": "8FTF2OEkX_1M"
      },
      "source": [
        "# Activations"
      ]
    },
    {
      "cell_type": "code",
      "metadata": {
        "id": "36kuYoZgYJDn"
      },
      "source": [
        "def relu(z):\n",
        "    return z * (z > 0)\n",
        "\n",
        "# Cleaned up the relu gradient\n",
        "# Nice explanation of why its value at 0 doesn't matter:\n",
        "# https://www.quora.com/How-do-we-compute-the-gradient-of-a-ReLU-for-backpropagation\n",
        "def relu_grad(z):\n",
        "    return np.array(z > 0, dtype=np.int)"
      ],
      "execution_count": 7,
      "outputs": []
    },
    {
      "cell_type": "code",
      "metadata": {
        "id": "l3rBlNsXYK5f"
      },
      "source": [
        "def sigmoid(z):\n",
        "    return 1 / (1 + np.exp(-z))\n",
        "\n",
        "# Should be (sigmoid(z)) * (1 - sigmoid(z)), rather than (sigmoid(z)) * (sigmoid(1 - z))\n",
        "def sigmoid_grad(z):\n",
        "    # return sigmoid(z) * sigmoid(1-z)\n",
        "    return sigmoid(z) * (1 - sigmoid(z))"
      ],
      "execution_count": 8,
      "outputs": []
    },
    {
      "cell_type": "code",
      "metadata": {
        "id": "40nHJ89AjCkK"
      },
      "source": [
        "def tanh(z):\n",
        "    return (np.exp(2 * z) - 1) / (np.exp(2 * z) + 1)\n",
        "\n",
        "def tanh_grad(z):\n",
        "    return 1 - (tanh(z) ** 2)"
      ],
      "execution_count": 9,
      "outputs": []
    },
    {
      "cell_type": "markdown",
      "metadata": {
        "id": "e-vAaYIh3DBP"
      },
      "source": [
        "# Processing Data"
      ]
    },
    {
      "cell_type": "code",
      "metadata": {
        "id": "M8tNlgRUVt6i"
      },
      "source": [
        "import pandas as pd\n",
        "from sklearn.preprocessing import StandardScaler\n",
        "from sklearn.model_selection import train_test_split"
      ],
      "execution_count": 10,
      "outputs": []
    },
    {
      "cell_type": "code",
      "metadata": {
        "id": "1nlINkKkVt64"
      },
      "source": [
        "data = pd.read_csv('/content/indian_liver_patient.csv')\n",
        "original_data = data.copy()"
      ],
      "execution_count": 11,
      "outputs": []
    },
    {
      "cell_type": "markdown",
      "metadata": {
        "id": "2PvawODkVt7Y"
      },
      "source": [
        "## Missing Values"
      ]
    },
    {
      "cell_type": "markdown",
      "metadata": {
        "id": "Fo0YTb3UVt7w"
      },
      "source": [
        "## Encoding"
      ]
    },
    {
      "cell_type": "code",
      "metadata": {
        "id": "mvNhO1QYVt7x"
      },
      "source": [
        "def binary_encode(df, column, positive_value):\n",
        "    df = df.copy()\n",
        "    df[column] = df[column].apply(lambda x: 1 if x == positive_value else 0)\n",
        "    return df"
      ],
      "execution_count": 12,
      "outputs": []
    },
    {
      "cell_type": "code",
      "metadata": {
        "id": "tM0JucytVt7k"
      },
      "source": [
        "data['Albumin_and_Globulin_Ratio'] = data['Albumin_and_Globulin_Ratio'].fillna(data['Albumin_and_Globulin_Ratio'].mean())"
      ],
      "execution_count": 13,
      "outputs": []
    },
    {
      "cell_type": "code",
      "metadata": {
        "id": "VILmNxTUVt75"
      },
      "source": [
        "data = binary_encode(data, 'Gender', 'Male')"
      ],
      "execution_count": 14,
      "outputs": []
    },
    {
      "cell_type": "markdown",
      "metadata": {
        "id": "8KVofsFLVt8C"
      },
      "source": [
        "Let's change the labels to 0, 1 instead of 1, 2"
      ]
    },
    {
      "cell_type": "code",
      "metadata": {
        "id": "-GCNXwNOVt8D"
      },
      "source": [
        "data = binary_encode(data, 'Dataset', 1)"
      ],
      "execution_count": 15,
      "outputs": []
    },
    {
      "cell_type": "code",
      "metadata": {
        "id": "nqZXIz4N8xxT",
        "colab": {
          "base_uri": "https://localhost:8080/",
          "height": 419
        },
        "outputId": "9d0479d3-0e2d-4f6f-9f80-e83aeca8f537"
      },
      "source": [
        "data"
      ],
      "execution_count": 16,
      "outputs": [
        {
          "output_type": "execute_result",
          "data": {
            "text/html": [
              "<div>\n",
              "<style scoped>\n",
              "    .dataframe tbody tr th:only-of-type {\n",
              "        vertical-align: middle;\n",
              "    }\n",
              "\n",
              "    .dataframe tbody tr th {\n",
              "        vertical-align: top;\n",
              "    }\n",
              "\n",
              "    .dataframe thead th {\n",
              "        text-align: right;\n",
              "    }\n",
              "</style>\n",
              "<table border=\"1\" class=\"dataframe\">\n",
              "  <thead>\n",
              "    <tr style=\"text-align: right;\">\n",
              "      <th></th>\n",
              "      <th>Age</th>\n",
              "      <th>Gender</th>\n",
              "      <th>Total_Bilirubin</th>\n",
              "      <th>Direct_Bilirubin</th>\n",
              "      <th>Alkaline_Phosphotase</th>\n",
              "      <th>Alamine_Aminotransferase</th>\n",
              "      <th>Aspartate_Aminotransferase</th>\n",
              "      <th>Total_Protiens</th>\n",
              "      <th>Albumin</th>\n",
              "      <th>Albumin_and_Globulin_Ratio</th>\n",
              "      <th>Dataset</th>\n",
              "    </tr>\n",
              "  </thead>\n",
              "  <tbody>\n",
              "    <tr>\n",
              "      <th>0</th>\n",
              "      <td>65</td>\n",
              "      <td>0</td>\n",
              "      <td>0.7</td>\n",
              "      <td>0.1</td>\n",
              "      <td>187</td>\n",
              "      <td>16</td>\n",
              "      <td>18</td>\n",
              "      <td>6.8</td>\n",
              "      <td>3.3</td>\n",
              "      <td>0.90</td>\n",
              "      <td>1</td>\n",
              "    </tr>\n",
              "    <tr>\n",
              "      <th>1</th>\n",
              "      <td>62</td>\n",
              "      <td>1</td>\n",
              "      <td>10.9</td>\n",
              "      <td>5.5</td>\n",
              "      <td>699</td>\n",
              "      <td>64</td>\n",
              "      <td>100</td>\n",
              "      <td>7.5</td>\n",
              "      <td>3.2</td>\n",
              "      <td>0.74</td>\n",
              "      <td>1</td>\n",
              "    </tr>\n",
              "    <tr>\n",
              "      <th>2</th>\n",
              "      <td>62</td>\n",
              "      <td>1</td>\n",
              "      <td>7.3</td>\n",
              "      <td>4.1</td>\n",
              "      <td>490</td>\n",
              "      <td>60</td>\n",
              "      <td>68</td>\n",
              "      <td>7.0</td>\n",
              "      <td>3.3</td>\n",
              "      <td>0.89</td>\n",
              "      <td>1</td>\n",
              "    </tr>\n",
              "    <tr>\n",
              "      <th>3</th>\n",
              "      <td>58</td>\n",
              "      <td>1</td>\n",
              "      <td>1.0</td>\n",
              "      <td>0.4</td>\n",
              "      <td>182</td>\n",
              "      <td>14</td>\n",
              "      <td>20</td>\n",
              "      <td>6.8</td>\n",
              "      <td>3.4</td>\n",
              "      <td>1.00</td>\n",
              "      <td>1</td>\n",
              "    </tr>\n",
              "    <tr>\n",
              "      <th>4</th>\n",
              "      <td>72</td>\n",
              "      <td>1</td>\n",
              "      <td>3.9</td>\n",
              "      <td>2.0</td>\n",
              "      <td>195</td>\n",
              "      <td>27</td>\n",
              "      <td>59</td>\n",
              "      <td>7.3</td>\n",
              "      <td>2.4</td>\n",
              "      <td>0.40</td>\n",
              "      <td>1</td>\n",
              "    </tr>\n",
              "    <tr>\n",
              "      <th>...</th>\n",
              "      <td>...</td>\n",
              "      <td>...</td>\n",
              "      <td>...</td>\n",
              "      <td>...</td>\n",
              "      <td>...</td>\n",
              "      <td>...</td>\n",
              "      <td>...</td>\n",
              "      <td>...</td>\n",
              "      <td>...</td>\n",
              "      <td>...</td>\n",
              "      <td>...</td>\n",
              "    </tr>\n",
              "    <tr>\n",
              "      <th>578</th>\n",
              "      <td>60</td>\n",
              "      <td>1</td>\n",
              "      <td>0.5</td>\n",
              "      <td>0.1</td>\n",
              "      <td>500</td>\n",
              "      <td>20</td>\n",
              "      <td>34</td>\n",
              "      <td>5.9</td>\n",
              "      <td>1.6</td>\n",
              "      <td>0.37</td>\n",
              "      <td>0</td>\n",
              "    </tr>\n",
              "    <tr>\n",
              "      <th>579</th>\n",
              "      <td>40</td>\n",
              "      <td>1</td>\n",
              "      <td>0.6</td>\n",
              "      <td>0.1</td>\n",
              "      <td>98</td>\n",
              "      <td>35</td>\n",
              "      <td>31</td>\n",
              "      <td>6.0</td>\n",
              "      <td>3.2</td>\n",
              "      <td>1.10</td>\n",
              "      <td>1</td>\n",
              "    </tr>\n",
              "    <tr>\n",
              "      <th>580</th>\n",
              "      <td>52</td>\n",
              "      <td>1</td>\n",
              "      <td>0.8</td>\n",
              "      <td>0.2</td>\n",
              "      <td>245</td>\n",
              "      <td>48</td>\n",
              "      <td>49</td>\n",
              "      <td>6.4</td>\n",
              "      <td>3.2</td>\n",
              "      <td>1.00</td>\n",
              "      <td>1</td>\n",
              "    </tr>\n",
              "    <tr>\n",
              "      <th>581</th>\n",
              "      <td>31</td>\n",
              "      <td>1</td>\n",
              "      <td>1.3</td>\n",
              "      <td>0.5</td>\n",
              "      <td>184</td>\n",
              "      <td>29</td>\n",
              "      <td>32</td>\n",
              "      <td>6.8</td>\n",
              "      <td>3.4</td>\n",
              "      <td>1.00</td>\n",
              "      <td>1</td>\n",
              "    </tr>\n",
              "    <tr>\n",
              "      <th>582</th>\n",
              "      <td>38</td>\n",
              "      <td>1</td>\n",
              "      <td>1.0</td>\n",
              "      <td>0.3</td>\n",
              "      <td>216</td>\n",
              "      <td>21</td>\n",
              "      <td>24</td>\n",
              "      <td>7.3</td>\n",
              "      <td>4.4</td>\n",
              "      <td>1.50</td>\n",
              "      <td>0</td>\n",
              "    </tr>\n",
              "  </tbody>\n",
              "</table>\n",
              "<p>583 rows × 11 columns</p>\n",
              "</div>"
            ],
            "text/plain": [
              "     Age  Gender  Total_Bilirubin  ...  Albumin  Albumin_and_Globulin_Ratio  Dataset\n",
              "0     65       0              0.7  ...      3.3                        0.90        1\n",
              "1     62       1             10.9  ...      3.2                        0.74        1\n",
              "2     62       1              7.3  ...      3.3                        0.89        1\n",
              "3     58       1              1.0  ...      3.4                        1.00        1\n",
              "4     72       1              3.9  ...      2.4                        0.40        1\n",
              "..   ...     ...              ...  ...      ...                         ...      ...\n",
              "578   60       1              0.5  ...      1.6                        0.37        0\n",
              "579   40       1              0.6  ...      3.2                        1.10        1\n",
              "580   52       1              0.8  ...      3.2                        1.00        1\n",
              "581   31       1              1.3  ...      3.4                        1.00        1\n",
              "582   38       1              1.0  ...      4.4                        1.50        0\n",
              "\n",
              "[583 rows x 11 columns]"
            ]
          },
          "metadata": {
            "tags": []
          },
          "execution_count": 16
        }
      ]
    },
    {
      "cell_type": "code",
      "metadata": {
        "id": "jHpPLTz480jI"
      },
      "source": [
        "y = data['Dataset'].copy()\n",
        "X = data.drop('Dataset', axis=1).copy()\n",
        "\n",
        "scaler = StandardScaler()\n",
        "X = scaler.fit_transform(X)\n",
        "\n",
        "y = np.expand_dims(np.array(y), axis=1)\n",
        "\n",
        "X_train, X_test, y_train, y_test = train_test_split(X, y, train_size=0.7, random_state=0)"
      ],
      "execution_count": 17,
      "outputs": []
    },
    {
      "cell_type": "code",
      "metadata": {
        "id": "Gqr1o4Xz3HYG"
      },
      "source": [
        "X_train, X_val, y_train, y_val = train_test_split(X_train, y_train, test_size=0.2, random_state=0)"
      ],
      "execution_count": 18,
      "outputs": []
    },
    {
      "cell_type": "markdown",
      "metadata": {
        "id": "cXMgU2uG7pTP"
      },
      "source": [
        "# Training"
      ]
    },
    {
      "cell_type": "code",
      "metadata": {
        "id": "TuKeUiKz7qlo",
        "colab": {
          "base_uri": "https://localhost:8080/"
        },
        "outputId": "175fdc1a-77a1-4f57-bcd3-e6052f0b1d6e"
      },
      "source": [
        "X_train.shape"
      ],
      "execution_count": 19,
      "outputs": [
        {
          "output_type": "execute_result",
          "data": {
            "text/plain": [
              "(326, 10)"
            ]
          },
          "metadata": {
            "tags": []
          },
          "execution_count": 19
        }
      ]
    },
    {
      "cell_type": "code",
      "metadata": {
        "id": "fc0gZDgBF_UO",
        "colab": {
          "base_uri": "https://localhost:8080/"
        },
        "outputId": "2114e3dd-86f0-47b9-e7dc-da6f44f95acb"
      },
      "source": [
        "y_train.shape"
      ],
      "execution_count": 20,
      "outputs": [
        {
          "output_type": "execute_result",
          "data": {
            "text/plain": [
              "(326, 1)"
            ]
          },
          "metadata": {
            "tags": []
          },
          "execution_count": 20
        }
      ]
    },
    {
      "cell_type": "code",
      "metadata": {
        "id": "468lyjwC7yji"
      },
      "source": [
        "model = NeuralNetwork(loss=binary_crossentropy, learning_rate=0.01)\n",
        "\n",
        "model.add(InputLayer(input_dim=10))\n",
        "model.add(DenseLayer(input_dim=10, output_dim=64, activation=relu, activation_grad=relu_grad))\n",
        "model.add(DenseLayer(input_dim=65, output_dim=64, activation=relu, activation_grad=relu_grad))\n",
        "model.add(DenseLayer(input_dim=65, output_dim=1, activation=sigmoid, activation_grad=sigmoid_grad))"
      ],
      "execution_count": 21,
      "outputs": []
    },
    {
      "cell_type": "code",
      "metadata": {
        "id": "MogZulxyohFh",
        "colab": {
          "base_uri": "https://localhost:8080/"
        },
        "outputId": "3adfc512-d05b-42d3-bc3f-79757c6a1477"
      },
      "source": [
        "for layer in model.layers:\n",
        "    try:\n",
        "        print(layer.weights.shape)\n",
        "        print(layer.is_output)\n",
        "    except:\n",
        "        pass"
      ],
      "execution_count": 22,
      "outputs": [
        {
          "output_type": "stream",
          "text": [
            "(10, 64)\n",
            "False\n",
            "(65, 64)\n",
            "False\n",
            "(65, 1)\n",
            "True\n"
          ],
          "name": "stdout"
        }
      ]
    },
    {
      "cell_type": "code",
      "metadata": {
        "id": "xfQWQcs-3QXF"
      },
      "source": [
        "val_data = (X_val, y_val)"
      ],
      "execution_count": 23,
      "outputs": []
    },
    {
      "cell_type": "code",
      "metadata": {
        "id": "8N0E7l4N-JSg",
        "colab": {
          "base_uri": "https://localhost:8080/"
        },
        "outputId": "aa4289b7-af8a-4ec6-faa4-28143bed2b44"
      },
      "source": [
        "batch_size=32\n",
        "epochs = 200\n",
        "\n",
        "history = model.fit(X_train, y_train, val_data=val_data, batch_size=batch_size, epochs=epochs)"
      ],
      "execution_count": 24,
      "outputs": [
        {
          "output_type": "stream",
          "text": [
            "Epoch 0\n",
            "Training Loss: [[2.04875419]]   Validation Loss: [[2.67606518]]\n",
            "Epoch 1\n",
            "Training Loss: [[1.85369474]]   Validation Loss: [[2.42095568]]\n",
            "Epoch 2\n",
            "Training Loss: [[1.67756929]]   Validation Loss: [[2.1821444]]\n",
            "Epoch 3\n",
            "Training Loss: [[1.51959515]]   Validation Loss: [[1.96154604]]\n",
            "Epoch 4\n",
            "Training Loss: [[1.37875078]]   Validation Loss: [[1.75906682]]\n",
            "Epoch 5\n",
            "Training Loss: [[1.25405991]]   Validation Loss: [[1.57545782]]\n",
            "Epoch 6\n",
            "Training Loss: [[1.14567665]]   Validation Loss: [[1.41190626]]\n",
            "Epoch 7\n",
            "Training Loss: [[1.05316566]]   Validation Loss: [[1.26920337]]\n",
            "Epoch 8\n",
            "Training Loss: [[0.97625775]]   Validation Loss: [[1.14789321]]\n",
            "Epoch 9\n",
            "Training Loss: [[0.91440123]]   Validation Loss: [[1.04674582]]\n",
            "Epoch 10\n",
            "Training Loss: [[0.86649865]]   Validation Loss: [[0.96477337]]\n",
            "Epoch 11\n",
            "Training Loss: [[0.83042924]]   Validation Loss: [[0.89976204]]\n",
            "Epoch 12\n",
            "Training Loss: [[0.80346382]]   Validation Loss: [[0.84861684]]\n",
            "Epoch 13\n",
            "Training Loss: [[0.78320025]]   Validation Loss: [[0.80841729]]\n",
            "Epoch 14\n",
            "Training Loss: [[0.76762154]]   Validation Loss: [[0.77658512]]\n",
            "Epoch 15\n",
            "Training Loss: [[0.75528599]]   Validation Loss: [[0.75105137]]\n",
            "Epoch 16\n",
            "Training Loss: [[0.74520408]]   Validation Loss: [[0.73024467]]\n",
            "Epoch 17\n",
            "Training Loss: [[0.73672445]]   Validation Loss: [[0.71307005]]\n",
            "Epoch 18\n",
            "Training Loss: [[0.72939441]]   Validation Loss: [[0.69867995]]\n",
            "Epoch 19\n",
            "Training Loss: [[0.72292265]]   Validation Loss: [[0.6865083]]\n",
            "Epoch 20\n",
            "Training Loss: [[0.71711975]]   Validation Loss: [[0.67609512]]\n",
            "Epoch 21\n",
            "Training Loss: [[0.71185237]]   Validation Loss: [[0.66711906]]\n",
            "Epoch 22\n",
            "Training Loss: [[0.70700779]]   Validation Loss: [[0.65932665]]\n",
            "Epoch 23\n",
            "Training Loss: [[0.70250676]]   Validation Loss: [[0.65250496]]\n",
            "Epoch 24\n",
            "Training Loss: [[0.69831851]]   Validation Loss: [[0.64652512]]\n",
            "Epoch 25\n",
            "Training Loss: [[0.69438709]]   Validation Loss: [[0.64124195]]\n",
            "Epoch 26\n",
            "Training Loss: [[0.69067569]]   Validation Loss: [[0.63655229]]\n",
            "Epoch 27\n",
            "Training Loss: [[0.68718921]]   Validation Loss: [[0.63238052]]\n",
            "Epoch 28\n",
            "Training Loss: [[0.68387255]]   Validation Loss: [[0.62865692]]\n",
            "Epoch 29\n",
            "Training Loss: [[0.68071118]]   Validation Loss: [[0.62531867]]\n",
            "Epoch 30\n",
            "Training Loss: [[0.67769629]]   Validation Loss: [[0.6223146]]\n",
            "Epoch 31\n",
            "Training Loss: [[0.6748133]]   Validation Loss: [[0.61959507]]\n",
            "Epoch 32\n",
            "Training Loss: [[0.67204056]]   Validation Loss: [[0.61713587]]\n",
            "Epoch 33\n",
            "Training Loss: [[0.6693611]]   Validation Loss: [[0.61490384]]\n",
            "Epoch 34\n",
            "Training Loss: [[0.66678071]]   Validation Loss: [[0.61287659]]\n",
            "Epoch 35\n",
            "Training Loss: [[0.6642915]]   Validation Loss: [[0.61103238]]\n",
            "Epoch 36\n",
            "Training Loss: [[0.66188579]]   Validation Loss: [[0.60935231]]\n",
            "Epoch 37\n",
            "Training Loss: [[0.65955471]]   Validation Loss: [[0.60781704]]\n",
            "Epoch 38\n",
            "Training Loss: [[0.6572912]]   Validation Loss: [[0.6064169]]\n",
            "Epoch 39\n",
            "Training Loss: [[0.6550917]]   Validation Loss: [[0.60513495]]\n",
            "Epoch 40\n",
            "Training Loss: [[0.65295446]]   Validation Loss: [[0.60396546]]\n",
            "Epoch 41\n",
            "Training Loss: [[0.6508764]]   Validation Loss: [[0.60289487]]\n",
            "Epoch 42\n",
            "Training Loss: [[0.64885447]]   Validation Loss: [[0.60191434]]\n",
            "Epoch 43\n",
            "Training Loss: [[0.64688759]]   Validation Loss: [[0.60101704]]\n",
            "Epoch 44\n",
            "Training Loss: [[0.64496879]]   Validation Loss: [[0.60019635]]\n",
            "Epoch 45\n",
            "Training Loss: [[0.64309418]]   Validation Loss: [[0.59943802]]\n",
            "Epoch 46\n",
            "Training Loss: [[0.64126781]]   Validation Loss: [[0.59874446]]\n",
            "Epoch 47\n",
            "Training Loss: [[0.63948641]]   Validation Loss: [[0.59811019]]\n",
            "Epoch 48\n",
            "Training Loss: [[0.6377462]]   Validation Loss: [[0.59753133]]\n",
            "Epoch 49\n",
            "Training Loss: [[0.63604565]]   Validation Loss: [[0.59700333]]\n",
            "Epoch 50\n",
            "Training Loss: [[0.63438243]]   Validation Loss: [[0.59652378]]\n",
            "Epoch 51\n",
            "Training Loss: [[0.63275684]]   Validation Loss: [[0.59608957]]\n",
            "Epoch 52\n",
            "Training Loss: [[0.63116651]]   Validation Loss: [[0.59569778]]\n",
            "Epoch 53\n",
            "Training Loss: [[0.62961318]]   Validation Loss: [[0.59534541]]\n",
            "Epoch 54\n",
            "Training Loss: [[0.62809522]]   Validation Loss: [[0.59502947]]\n",
            "Epoch 55\n",
            "Training Loss: [[0.62660738]]   Validation Loss: [[0.59474843]]\n",
            "Epoch 56\n",
            "Training Loss: [[0.62514765]]   Validation Loss: [[0.59449908]]\n",
            "Epoch 57\n",
            "Training Loss: [[0.62371374]]   Validation Loss: [[0.59428035]]\n",
            "Epoch 58\n",
            "Training Loss: [[0.62230634]]   Validation Loss: [[0.59409008]]\n",
            "Epoch 59\n",
            "Training Loss: [[0.62092314]]   Validation Loss: [[0.59392626]]\n",
            "Epoch 60\n",
            "Training Loss: [[0.61956509]]   Validation Loss: [[0.59378738]]\n",
            "Epoch 61\n",
            "Training Loss: [[0.61823179]]   Validation Loss: [[0.59367247]]\n",
            "Epoch 62\n",
            "Training Loss: [[0.616925]]   Validation Loss: [[0.59358015]]\n",
            "Epoch 63\n",
            "Training Loss: [[0.61564416]]   Validation Loss: [[0.59350917]]\n",
            "Epoch 64\n",
            "Training Loss: [[0.61439163]]   Validation Loss: [[0.59345843]]\n",
            "Epoch 65\n",
            "Training Loss: [[0.61315999]]   Validation Loss: [[0.59342702]]\n",
            "Epoch 66\n",
            "Training Loss: [[0.61194899]]   Validation Loss: [[0.5934139]]\n",
            "Epoch 67\n",
            "Training Loss: [[0.61076117]]   Validation Loss: [[0.59341848]]\n",
            "Epoch 68\n",
            "Training Loss: [[0.60959319]]   Validation Loss: [[0.59343977]]\n",
            "Epoch 69\n",
            "Training Loss: [[0.60844894]]   Validation Loss: [[0.59347688]]\n",
            "Epoch 70\n",
            "Training Loss: [[0.60732495]]   Validation Loss: [[0.59352925]]\n",
            "Epoch 71\n",
            "Training Loss: [[0.60621682]]   Validation Loss: [[0.59359587]]\n",
            "Epoch 72\n",
            "Training Loss: [[0.60512549]]   Validation Loss: [[0.5936762]]\n",
            "Epoch 73\n",
            "Training Loss: [[0.60404881]]   Validation Loss: [[0.59376957]]\n",
            "Epoch 74\n",
            "Training Loss: [[0.60298661]]   Validation Loss: [[0.59387532]]\n",
            "Epoch 75\n",
            "Training Loss: [[0.60194169]]   Validation Loss: [[0.59399301]]\n",
            "Epoch 76\n",
            "Training Loss: [[0.60091116]]   Validation Loss: [[0.59412198]]\n",
            "Epoch 77\n",
            "Training Loss: [[0.59989356]]   Validation Loss: [[0.59426008]]\n",
            "Epoch 78\n",
            "Training Loss: [[0.59888789]]   Validation Loss: [[0.59440801]]\n",
            "Epoch 79\n",
            "Training Loss: [[0.59789822]]   Validation Loss: [[0.5945646]]\n",
            "Epoch 80\n",
            "Training Loss: [[0.59693076]]   Validation Loss: [[0.5947305]]\n",
            "Epoch 81\n",
            "Training Loss: [[0.59597837]]   Validation Loss: [[0.59490425]]\n",
            "Epoch 82\n",
            "Training Loss: [[0.59503986]]   Validation Loss: [[0.59508742]]\n",
            "Epoch 83\n",
            "Training Loss: [[0.59411463]]   Validation Loss: [[0.59528287]]\n",
            "Epoch 84\n",
            "Training Loss: [[0.5932025]]   Validation Loss: [[0.59548602]]\n",
            "Epoch 85\n",
            "Training Loss: [[0.59230257]]   Validation Loss: [[0.59569745]]\n",
            "Epoch 86\n",
            "Training Loss: [[0.59141522]]   Validation Loss: [[0.59591568]]\n",
            "Epoch 87\n",
            "Training Loss: [[0.5905414]]   Validation Loss: [[0.59614138]]\n",
            "Epoch 88\n",
            "Training Loss: [[0.58967866]]   Validation Loss: [[0.59637351]]\n",
            "Epoch 89\n",
            "Training Loss: [[0.5888276]]   Validation Loss: [[0.59661215]]\n",
            "Epoch 90\n",
            "Training Loss: [[0.58798788]]   Validation Loss: [[0.59685481]]\n",
            "Epoch 91\n",
            "Training Loss: [[0.58715843]]   Validation Loss: [[0.59710321]]\n",
            "Epoch 92\n",
            "Training Loss: [[0.58633981]]   Validation Loss: [[0.59735688]]\n",
            "Epoch 93\n",
            "Training Loss: [[0.58553414]]   Validation Loss: [[0.59761652]]\n",
            "Epoch 94\n",
            "Training Loss: [[0.58473911]]   Validation Loss: [[0.5978735]]\n",
            "Epoch 95\n",
            "Training Loss: [[0.58395318]]   Validation Loss: [[0.59813506]]\n",
            "Epoch 96\n",
            "Training Loss: [[0.58317675]]   Validation Loss: [[0.59840075]]\n",
            "Epoch 97\n",
            "Training Loss: [[0.58240918]]   Validation Loss: [[0.59867042]]\n",
            "Epoch 98\n",
            "Training Loss: [[0.58164691]]   Validation Loss: [[0.59894286]]\n",
            "Epoch 99\n",
            "Training Loss: [[0.58089322]]   Validation Loss: [[0.59921852]]\n",
            "Epoch 100\n",
            "Training Loss: [[0.58014635]]   Validation Loss: [[0.59949846]]\n",
            "Epoch 101\n",
            "Training Loss: [[0.57940872]]   Validation Loss: [[0.59978197]]\n",
            "Epoch 102\n",
            "Training Loss: [[0.57867905]]   Validation Loss: [[0.60006873]]\n",
            "Epoch 103\n",
            "Training Loss: [[0.57795974]]   Validation Loss: [[0.60035763]]\n",
            "Epoch 104\n",
            "Training Loss: [[0.57725007]]   Validation Loss: [[0.6006405]]\n",
            "Epoch 105\n",
            "Training Loss: [[0.57654909]]   Validation Loss: [[0.60092608]]\n",
            "Epoch 106\n",
            "Training Loss: [[0.57585622]]   Validation Loss: [[0.60121166]]\n",
            "Epoch 107\n",
            "Training Loss: [[0.57517124]]   Validation Loss: [[0.60149894]]\n",
            "Epoch 108\n",
            "Training Loss: [[0.57449399]]   Validation Loss: [[0.60178948]]\n",
            "Epoch 109\n",
            "Training Loss: [[0.57382414]]   Validation Loss: [[0.60208198]]\n",
            "Epoch 110\n",
            "Training Loss: [[0.57315748]]   Validation Loss: [[0.60238012]]\n",
            "Epoch 111\n",
            "Training Loss: [[0.57249528]]   Validation Loss: [[0.60268055]]\n",
            "Epoch 112\n",
            "Training Loss: [[0.57183803]]   Validation Loss: [[0.60298207]]\n",
            "Epoch 113\n",
            "Training Loss: [[0.57118686]]   Validation Loss: [[0.60328472]]\n",
            "Epoch 114\n",
            "Training Loss: [[0.57054255]]   Validation Loss: [[0.60358865]]\n",
            "Epoch 115\n",
            "Training Loss: [[0.56990511]]   Validation Loss: [[0.60389272]]\n",
            "Epoch 116\n",
            "Training Loss: [[0.5692728]]   Validation Loss: [[0.60419847]]\n",
            "Epoch 117\n",
            "Training Loss: [[0.56864504]]   Validation Loss: [[0.60450674]]\n",
            "Epoch 118\n",
            "Training Loss: [[0.56802464]]   Validation Loss: [[0.60481753]]\n",
            "Epoch 119\n",
            "Training Loss: [[0.56740788]]   Validation Loss: [[0.60512703]]\n",
            "Epoch 120\n",
            "Training Loss: [[0.56679834]]   Validation Loss: [[0.60544023]]\n",
            "Epoch 121\n",
            "Training Loss: [[0.56619525]]   Validation Loss: [[0.60575378]]\n",
            "Epoch 122\n",
            "Training Loss: [[0.56560096]]   Validation Loss: [[0.60606816]]\n",
            "Epoch 123\n",
            "Training Loss: [[0.5650109]]   Validation Loss: [[0.60638487]]\n",
            "Epoch 124\n",
            "Training Loss: [[0.56442517]]   Validation Loss: [[0.60670478]]\n",
            "Epoch 125\n",
            "Training Loss: [[0.56384654]]   Validation Loss: [[0.60702532]]\n",
            "Epoch 126\n",
            "Training Loss: [[0.56327295]]   Validation Loss: [[0.60734728]]\n",
            "Epoch 127\n",
            "Training Loss: [[0.56270424]]   Validation Loss: [[0.60766979]]\n",
            "Epoch 128\n",
            "Training Loss: [[0.56214196]]   Validation Loss: [[0.60799159]]\n",
            "Epoch 129\n",
            "Training Loss: [[0.56158566]]   Validation Loss: [[0.60831374]]\n",
            "Epoch 130\n",
            "Training Loss: [[0.56103508]]   Validation Loss: [[0.60863636]]\n",
            "Epoch 131\n",
            "Training Loss: [[0.56048905]]   Validation Loss: [[0.60895838]]\n",
            "Epoch 132\n",
            "Training Loss: [[0.55994859]]   Validation Loss: [[0.60928024]]\n",
            "Epoch 133\n",
            "Training Loss: [[0.55941126]]   Validation Loss: [[0.60960034]]\n",
            "Epoch 134\n",
            "Training Loss: [[0.55887831]]   Validation Loss: [[0.60991994]]\n",
            "Epoch 135\n",
            "Training Loss: [[0.55834959]]   Validation Loss: [[0.61023928]]\n",
            "Epoch 136\n",
            "Training Loss: [[0.55782566]]   Validation Loss: [[0.61055845]]\n",
            "Epoch 137\n",
            "Training Loss: [[0.55730853]]   Validation Loss: [[0.61087898]]\n",
            "Epoch 138\n",
            "Training Loss: [[0.5567992]]   Validation Loss: [[0.61120384]]\n",
            "Epoch 139\n",
            "Training Loss: [[0.55629423]]   Validation Loss: [[0.61152795]]\n",
            "Epoch 140\n",
            "Training Loss: [[0.55579546]]   Validation Loss: [[0.6118501]]\n",
            "Epoch 141\n",
            "Training Loss: [[0.55530206]]   Validation Loss: [[0.6121747]]\n",
            "Epoch 142\n",
            "Training Loss: [[0.5548116]]   Validation Loss: [[0.61249829]]\n",
            "Epoch 143\n",
            "Training Loss: [[0.55432557]]   Validation Loss: [[0.61282118]]\n",
            "Epoch 144\n",
            "Training Loss: [[0.55384427]]   Validation Loss: [[0.6131425]]\n",
            "Epoch 145\n",
            "Training Loss: [[0.55336778]]   Validation Loss: [[0.61346409]]\n",
            "Epoch 146\n",
            "Training Loss: [[0.55289544]]   Validation Loss: [[0.61378353]]\n",
            "Epoch 147\n",
            "Training Loss: [[0.55242759]]   Validation Loss: [[0.61410318]]\n",
            "Epoch 148\n",
            "Training Loss: [[0.55196464]]   Validation Loss: [[0.61442815]]\n",
            "Epoch 149\n",
            "Training Loss: [[0.55150459]]   Validation Loss: [[0.61475264]]\n",
            "Epoch 150\n",
            "Training Loss: [[0.55104899]]   Validation Loss: [[0.61507655]]\n",
            "Epoch 151\n",
            "Training Loss: [[0.55059705]]   Validation Loss: [[0.61539852]]\n",
            "Epoch 152\n",
            "Training Loss: [[0.55014923]]   Validation Loss: [[0.61571853]]\n",
            "Epoch 153\n",
            "Training Loss: [[0.54970463]]   Validation Loss: [[0.61604498]]\n",
            "Epoch 154\n",
            "Training Loss: [[0.54926371]]   Validation Loss: [[0.61636572]]\n",
            "Epoch 155\n",
            "Training Loss: [[0.54882734]]   Validation Loss: [[0.61668746]]\n",
            "Epoch 156\n",
            "Training Loss: [[0.54839684]]   Validation Loss: [[0.6170023]]\n",
            "Epoch 157\n",
            "Training Loss: [[0.54797248]]   Validation Loss: [[0.61733462]]\n",
            "Epoch 158\n",
            "Training Loss: [[0.54755388]]   Validation Loss: [[0.61765612]]\n",
            "Epoch 159\n",
            "Training Loss: [[0.54713934]]   Validation Loss: [[0.61798479]]\n",
            "Epoch 160\n",
            "Training Loss: [[0.54672644]]   Validation Loss: [[0.6183101]]\n",
            "Epoch 161\n",
            "Training Loss: [[0.54631732]]   Validation Loss: [[0.61863526]]\n",
            "Epoch 162\n",
            "Training Loss: [[0.54591146]]   Validation Loss: [[0.61895856]]\n",
            "Epoch 163\n",
            "Training Loss: [[0.54550907]]   Validation Loss: [[0.61927968]]\n",
            "Epoch 164\n",
            "Training Loss: [[0.54510951]]   Validation Loss: [[0.61959944]]\n",
            "Epoch 165\n",
            "Training Loss: [[0.54471271]]   Validation Loss: [[0.61991795]]\n",
            "Epoch 166\n",
            "Training Loss: [[0.54431957]]   Validation Loss: [[0.62023542]]\n",
            "Epoch 167\n",
            "Training Loss: [[0.54393292]]   Validation Loss: [[0.62054713]]\n",
            "Epoch 168\n",
            "Training Loss: [[0.54355048]]   Validation Loss: [[0.62085831]]\n",
            "Epoch 169\n",
            "Training Loss: [[0.54317087]]   Validation Loss: [[0.62116703]]\n",
            "Epoch 170\n",
            "Training Loss: [[0.54279375]]   Validation Loss: [[0.62147607]]\n",
            "Epoch 171\n",
            "Training Loss: [[0.54241851]]   Validation Loss: [[0.62178387]]\n",
            "Epoch 172\n",
            "Training Loss: [[0.54204534]]   Validation Loss: [[0.62208964]]\n",
            "Epoch 173\n",
            "Training Loss: [[0.54167366]]   Validation Loss: [[0.62239312]]\n",
            "Epoch 174\n",
            "Training Loss: [[0.54130409]]   Validation Loss: [[0.62269553]]\n",
            "Epoch 175\n",
            "Training Loss: [[0.5409383]]   Validation Loss: [[0.62299182]]\n",
            "Epoch 176\n",
            "Training Loss: [[0.54057526]]   Validation Loss: [[0.62328902]]\n",
            "Epoch 177\n",
            "Training Loss: [[0.54021521]]   Validation Loss: [[0.62358274]]\n",
            "Epoch 178\n",
            "Training Loss: [[0.53986089]]   Validation Loss: [[0.62388443]]\n",
            "Epoch 179\n",
            "Training Loss: [[0.53950905]]   Validation Loss: [[0.62418869]]\n",
            "Epoch 180\n",
            "Training Loss: [[0.53915881]]   Validation Loss: [[0.62448879]]\n",
            "Epoch 181\n",
            "Training Loss: [[0.53881057]]   Validation Loss: [[0.62478781]]\n",
            "Epoch 182\n",
            "Training Loss: [[0.53846413]]   Validation Loss: [[0.62508866]]\n",
            "Epoch 183\n",
            "Training Loss: [[0.53811903]]   Validation Loss: [[0.62538584]]\n",
            "Epoch 184\n",
            "Training Loss: [[0.53777526]]   Validation Loss: [[0.6256798]]\n",
            "Epoch 185\n",
            "Training Loss: [[0.53743493]]   Validation Loss: [[0.62598319]]\n",
            "Epoch 186\n",
            "Training Loss: [[0.537097]]   Validation Loss: [[0.62628064]]\n",
            "Epoch 187\n",
            "Training Loss: [[0.53676163]]   Validation Loss: [[0.62658104]]\n",
            "Epoch 188\n",
            "Training Loss: [[0.53642836]]   Validation Loss: [[0.6268781]]\n",
            "Epoch 189\n",
            "Training Loss: [[0.5360986]]   Validation Loss: [[0.62717621]]\n",
            "Epoch 190\n",
            "Training Loss: [[0.53577344]]   Validation Loss: [[0.62746961]]\n",
            "Epoch 191\n",
            "Training Loss: [[0.53545175]]   Validation Loss: [[0.62776408]]\n",
            "Epoch 192\n",
            "Training Loss: [[0.53513222]]   Validation Loss: [[0.6280565]]\n",
            "Epoch 193\n",
            "Training Loss: [[0.53481478]]   Validation Loss: [[0.6283513]]\n",
            "Epoch 194\n",
            "Training Loss: [[0.53449944]]   Validation Loss: [[0.62864336]]\n",
            "Epoch 195\n",
            "Training Loss: [[0.53418554]]   Validation Loss: [[0.62893493]]\n",
            "Epoch 196\n",
            "Training Loss: [[0.53387352]]   Validation Loss: [[0.62922482]]\n",
            "Epoch 197\n",
            "Training Loss: [[0.5335648]]   Validation Loss: [[0.62952148]]\n",
            "Epoch 198\n",
            "Training Loss: [[0.53325748]]   Validation Loss: [[0.62981414]]\n",
            "Epoch 199\n",
            "Training Loss: [[0.53295229]]   Validation Loss: [[0.63010663]]\n"
          ],
          "name": "stdout"
        }
      ]
    },
    {
      "cell_type": "code",
      "metadata": {
        "id": "vkepdEZ45vLG",
        "colab": {
          "base_uri": "https://localhost:8080/"
        },
        "outputId": "d5496863-e973-40af-ec19-e18884a7c8fb"
      },
      "source": [
        "np.argmin(history['val_loss'])"
      ],
      "execution_count": 25,
      "outputs": [
        {
          "output_type": "execute_result",
          "data": {
            "text/plain": [
              "66"
            ]
          },
          "metadata": {
            "tags": []
          },
          "execution_count": 25
        }
      ]
    },
    {
      "cell_type": "code",
      "metadata": {
        "id": "CcNh5dpQgaVc",
        "colab": {
          "base_uri": "https://localhost:8080/",
          "height": 621
        },
        "outputId": "bc9f80ef-33a4-4ae7-9b41-5ae12ad78f48"
      },
      "source": [
        "epochs_range = range(epochs)\n",
        "\n",
        "import matplotlib.pyplot as plt\n",
        "\n",
        "plt.figure(figsize=(12, 10))\n",
        "plt.plot(\n",
        "    epochs_range,\n",
        "    history['loss'],\n",
        "    label=\"Training Loss\"\n",
        ")\n",
        "\n",
        "plt.plot(\n",
        "    epochs_range,\n",
        "    history['val_loss'],\n",
        ")\n",
        "\n",
        "plt.xlabel(\"Epoch\")\n",
        "plt.ylabel(\"Loss\")\n",
        "\n",
        "plt.legend()\n",
        "plt.title(\"Loss Over Time\")\n",
        "\n",
        "plt.show()"
      ],
      "execution_count": 26,
      "outputs": [
        {
          "output_type": "display_data",
          "data": {
            "image/png": "[encoded data removed]",
            "text/plain": [
              "<Figure size 864x720 with 1 Axes>"
            ]
          },
          "metadata": {
            "tags": [],
            "needs_background": "light"
          }
        }
      ]
    },
    {
      "cell_type": "code",
      "metadata": {
        "id": "GlPfOMdxmEnc",
        "colab": {
          "base_uri": "https://localhost:8080/"
        },
        "outputId": "3782af47-293f-4356-d253-c87972d2e899"
      },
      "source": [
        "np.argmin(history['val_loss'])"
      ],
      "execution_count": 27,
      "outputs": [
        {
          "output_type": "execute_result",
          "data": {
            "text/plain": [
              "66"
            ]
          },
          "metadata": {
            "tags": []
          },
          "execution_count": 27
        }
      ]
    },
    {
      "cell_type": "code",
      "metadata": {
        "id": "vwOOA3v11ri2"
      },
      "source": [
        "y_pred = model.predict(X_test)\n",
        "y_pred = np.array(y_pred > 0.5, dtype=np.int)\n",
        "\n",
        "y_pred = np.squeeze(y_pred)\n",
        "y_true = np.squeeze(y_test)"
      ],
      "execution_count": 28,
      "outputs": []
    },
    {
      "cell_type": "code",
      "metadata": {
        "id": "VFzb081d15IQ",
        "colab": {
          "base_uri": "https://localhost:8080/"
        },
        "outputId": "2bd1c80a-113a-4eb1-fcb8-03b59097d91d"
      },
      "source": [
        "# Getting accuracy\n",
        "\n",
        "results = (y_true == y_pred)\n",
        "print(np.mean(results))"
      ],
      "execution_count": 29,
      "outputs": [
        {
          "output_type": "stream",
          "text": [
            "0.72\n"
          ],
          "name": "stdout"
        }
      ]
    }
  ]
}